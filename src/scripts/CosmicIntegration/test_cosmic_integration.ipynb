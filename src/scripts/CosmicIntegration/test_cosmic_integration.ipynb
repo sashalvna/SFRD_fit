{
 "cells": [
  {
   "cell_type": "code",
   "execution_count": 1,
   "id": "99398975",
   "metadata": {
    "scrolled": true
   },
   "outputs": [],
   "source": [
    "import numpy as np\n",
    "import os\n",
    "from subprocess import Popen, PIPE, call\n",
    "import subprocess\n",
    "import sys\n",
    "import time\n",
    "from fnmatch import fnmatch\n",
    "import h5py\n",
    "sys.path.append( str(os.getcwd()) + '/src/scripts/')\n",
    "import paths\n",
    "import init_values as In"
   ]
  },
  {
   "cell_type": "code",
   "execution_count": 1,
   "id": "84793e1d",
   "metadata": {},
   "outputs": [],
   "source": [
    "#imports from FitComparison_3panelPlot\n",
    "import os\n",
    "import h5py as h5\n",
    "import numpy as np\n",
    "import matplotlib.pyplot as plt\n",
    "import seaborn as sns\n",
    "import astropy.units as u\n",
    "from astropy import constants as const\n",
    "\n",
    "from scipy import interpolate\n",
    "from scipy.optimize import minimize\n",
    "from scipy.optimize import curve_fit\n",
    "\n",
    "#from astropy.cosmology import WMAP9, z_at_value\n",
    "from astropy.cosmology import Planck15  as cosmo# Planck 2018\n",
    "from astropy.cosmology import z_at_value\n",
    "from astropy.table import Table\n",
    "\n",
    "from matplotlib import rc\n",
    "import matplotlib\n",
    "from matplotlib import ticker, cm\n",
    "import matplotlib.gridspec as gridspec\n",
    "from matplotlib import cm\n",
    "from matplotlib.colors import ListedColormap\n",
    "\n",
    "############################\n",
    "# Custom scripts\n",
    "import get_ZdepSFRD as Z_SFRD"
   ]
  },
  {
   "cell_type": "code",
   "execution_count": 2,
   "id": "b66a0b15",
   "metadata": {
    "scrolled": true
   },
   "outputs": [],
   "source": [
    "def Call_Cosmic_Integration(root_out_dir, COMPASfilename, rate_file_name, user_email, jname = 'CI',\n",
    "                            ZdepSFRD_param_sets = [[],[]], #[[fid_dpdZ_parameters, fid_sfr_parameters]],\n",
    "                           partitions = 'conroy,hernquist,shared', Wtime = \"5:00:00\", mem = \"150000\",\n",
    "                           number_of_nodes = 1, number_of_cores = 1):\n",
    "    if not os.path.isdir(root_out_dir+'/RateData/'):\n",
    "        print('make output dir for rate data: ', root_out_dir+'/RateData/')\n",
    "        os.mkdir(root_out_dir+'/RateData/')\n",
    "\n",
    "    # Index to name your job\n",
    "    n_CI = 1\n",
    "    check_job_completionID = []\n",
    "\n",
    "    # Run over each complete variation of the metallicity dependent SFRD\n",
    "    for SFRD_zZ in ZdepSFRD_param_sets:\n",
    "\n",
    "        print(10* \"*\" + ' You are Going to Run FastCosmicIntegration.py')\n",
    "        print('dPdZ data = ', SFRD_zZ[0])\n",
    "        print('SFR(z) data = ', SFRD_zZ[1])\n",
    "\n",
    "        mu0, muz, sigma0, sigmaz, alpha0 = SFRD_zZ[0]\n",
    "        sf_a, sf_b, sf_c, sf_d           = SFRD_zZ[1]\n",
    "        DEPEND, append_job_id = False, 0\n",
    "\n",
    "        # Flag to pass to FasCosmicIntegrator   #'/RateData/'+str(n_CI)+'_'+rate_file_name+\\\n",
    "        Flags = \" --path \"+root_out_dir + \" --filename \"+ COMPASfilename+\" --outfname \" +'/n/holystore01/LABS/hernquist_lab/Users/lvanson/home_output/SFRD_fit/src/data/RateData/'+str(n_CI)+'_'+rate_file_name+\\\n",
    "        \" --mu0 \" +str(mu0)+\" --muz \"+str(muz)+\" --sigma0 \"+str(sigma0)+\" --sigmaz \"+str(sigmaz)+\" --alpha \"+str(alpha0)+\\\n",
    "        \" --aSF \" +str(sf_a)+\" --bSF \"+str(sf_b)+\" --cSF \"+str(sf_c)+\" --dSF \"+str(sf_d)+\\\n",
    "        \" --weight \"+\"mixture_weight\"+ \" --zstep \"+\"0.01\"+\" --sens \"+\"O3\"+ \" --m1min \"+\"5.\"+ \" --dco_type BBH\"+ \" --BinAppend\"+ \\\n",
    "        \" --redshiftBinSize \"+\"0.05\" + ' --maxzdet ' + \"0.5\" #+ \" --BinAppend \"\n",
    "        \n",
    "        run_dir = In.script_dir +'/CosmicIntegration/'\n",
    "\n",
    "        check_job_completionID.append(CIjob_id.decode(\"utf-8\"))\n",
    "\n",
    "        n_CI += 1\n",
    "        DEPEND, append_job_id = False, CIjob_id # no need for it to be dependent\n",
    "\n",
    "\n",
    "    np.savetxt(root_out_dir+'/RateData/CI_job_IDs.txt', np.c_[check_job_completionID],header = \"# job IDs \", delimiter=',', fmt=\"%s\")"
   ]
  },
  {
   "cell_type": "code",
   "execution_count": 3,
   "id": "0b5d9268",
   "metadata": {
    "scrolled": true
   },
   "outputs": [],
   "source": [
    "Zsun = 0.014 #solar metallicity\n",
    "mu0_best      =0.025\n",
    "muz_best      =-0.049\n",
    "sigma0_best   =1.129\n",
    "sigmaz_best   =0.048\n",
    "alpha0_best  =-1.778\n",
    "\n",
    "sf_a_best     =0.017\n",
    "sf_b_best     =1.481\n",
    "sf_c_best     =4.452\n",
    "sf_d_best    =5.913\n",
    "fid_dpdZ_parameters = [mu0_best, muz_best, sigma0_best, sigmaz_best, alpha0_best]\n",
    "fid_sfr_parameters  = [sf_a_best, sf_b_best, sf_c_best, sf_d_best]"
   ]
  },
  {
   "cell_type": "code",
   "execution_count": 4,
   "id": "e8171534",
   "metadata": {
    "scrolled": true
   },
   "outputs": [],
   "source": [
    "mu0, muz, sigma0, sigmaz, alpha0 = fid_dpdZ_parameters\n",
    "sf_a, sf_b, sf_c, sf_d           = fid_sfr_parameters\n",
    "DEPEND, append_job_id = False, 0\n",
    "COMPASfilename = 'COMPAS_Output_wWeights.h5'\n",
    "root_out_dir = '/home/sashalvna/research/Fit_SFRD_TNG100/'\n",
    "rate_file_name = 'Rate_info_test.h5'"
   ]
  },
  {
   "cell_type": "code",
   "execution_count": 5,
   "id": "9451e8ec",
   "metadata": {
    "scrolled": true
   },
   "outputs": [],
   "source": [
    "Flags = \" --path \"+root_out_dir + \" --filename \"+ COMPASfilename+ \" --outfname \" +'/home/sashalvna/research/Fit_SFRD_TNG100/' \\\n",
    "        +'_'+rate_file_name+ \" --mu0 \" +str(mu0)+\" --muz \"+str(muz)+\" --sigma0 \"+str(sigma0)+\" --sigmaz \"+str(sigmaz)+\" --alpha \"+str(alpha0)+\\\n",
    "        \" --aSF \" +str(sf_a)+\" --bSF \"+str(sf_b)+\" --cSF \"+str(sf_c)+\" --dSF \"+str(sf_d)+\\\n",
    "        \" --weight \"+\"mixture_weight\"+ \" --zstep \"+\"0.01\"+\" --sens \"+\"O3\"+ \" --m1min \"+\"5.\"+ \" --dco_type BBH\"+ \" --dontAppend\"+ \\\n",
    "        \" --redshiftBinSize \"+\"0.05\" + ' --maxzdet ' + \"0.5\" "
   ]
  },
  {
   "cell_type": "code",
   "execution_count": null,
   "id": "5a36a51e",
   "metadata": {
    "scrolled": true
   },
   "outputs": [],
   "source": [
    "!python FastCosmicIntegration.py \\\n",
    " --path /home/sashalvna/research/Fit_SFRD_TNG100/ --filename COMPAS_Output_wWeights.h5 --outfname /home/sashalvna/research/Fit_SFRD_TNG100/_Rate_info_test.h5 --mu0 0.025 --muz -0.049 --sigma0 1.129 --sigmaz 0.048 --alpha -1.778 --aSF 0.017 --bSF 1.481 --cSF 4.452 --dSF 5.913 --weight mixture_weight --zstep 0.01 --sens O3 --m1min 5. --dco_type BBH --redshiftBinSize 0.05 --maxzdet 0.5"
   ]
  },
  {
   "cell_type": "code",
   "execution_count": 6,
   "id": "988960aa",
   "metadata": {
    "scrolled": true
   },
   "outputs": [
    {
     "data": {
      "text/plain": [
       "' --path /home/sashalvna/research/Fit_SFRD_TNG100/ --filename COMPAS_Output_wWeights.h5 --outfname /home/sashalvna/research/Fit_SFRD_TNG100/_Rate_info_test.h5 --mu0 0.025 --muz -0.049 --sigma0 1.129 --sigmaz 0.048 --alpha -1.778 --aSF 0.017 --bSF 1.481 --cSF 4.452 --dSF 5.913 --weight mixture_weight --zstep 0.01 --sens O3 --m1min 5. --dco_type BBH --dontAppend --redshiftBinSize 0.05 --maxzdet 0.5'"
      ]
     },
     "execution_count": 6,
     "metadata": {},
     "output_type": "execute_result"
    }
   ],
   "source": [
    "Flags"
   ]
  },
  {
   "cell_type": "code",
   "execution_count": 17,
   "id": "ece9e193",
   "metadata": {
    "scrolled": true
   },
   "outputs": [
    {
     "data": {
      "text/plain": [
       "['BSE_Double_Compact_Objects',\n",
       " 'BSE_RLOF',\n",
       " 'BSE_System_Parameters',\n",
       " 'Rates_mu00.025_muz-0.05_alpha-1.77_sigma01.125_sigmaz0.05_a0.02_b1.48_c4.45_d5.9_zBinned']"
      ]
     },
     "execution_count": 17,
     "metadata": {},
     "output_type": "execute_result"
    }
   ],
   "source": [
    "import h5py as h5\n",
    "f = '/home/sashalvna/research/Fit_SFRD_TNG100/COMPAS_Output_wWeights.h5'\n",
    "data = h5.File(f, 'r')\n",
    "list(data.keys())"
   ]
  },
  {
   "cell_type": "code",
   "execution_count": 33,
   "id": "8c0f2d77",
   "metadata": {
    "scrolled": false
   },
   "outputs": [
    {
     "name": "stdout",
     "output_type": "stream",
     "text": [
      "Using Planck15 as cosmology!\n",
      "Calculate detection rates\n",
      "Running find_detection_rate with the following parameters: path /home/sashalvna/research/Fit_SFRD_TNG100/, filename COMPAS_Output_wWeights_reduced.h5, dco_typeBBH, weight_column mixture_weight\n",
      "merges_hubble_time True, pessimistic_CEE True, no_RLOF_after_CE True,\n",
      "max_redshift 10, max_redshift_detection 0.5, redshift_step 0.01, z_first_SF 10,\n",
      "m1_min 5.0 solMass, m1_max 150.0 solMass, m2_min 0.1 solMass, fbin 0.7,\n",
      "aSF 0.017, bSF 1.481, cSF 4.452, dSF 5.913, mu0 0.025, muz -0.049, sigma0 1.129, sigmaz 0.048, alpha -1.778, min_logZ -12.0, max_logZ 0.0, step_logZ 0.01\n",
      "sensitivity O3, snr_threshold 8, Mc_max 300.0, Mc_step 0.1, eta_max 0.25, eta_step 0.01, snr_max 1000.0, snr_step 0.1\n",
      "noRLOFafterCEE, pessimistic: True True\n",
      "sum(type_masks[BBH]) 898344, sum(hubble_mask) 713872, sum(rlof_mask) 1000000, sum(pessimistic_mask) 1000000\n",
      "/home/sashalvna/research/SFRD_fit/src/scripts/CosmicIntegration/FastCosmicIntegration.py:859: UserWarning: Maximum chirp mass used for detectability calculation is below maximum binary chirp mass * (1+maximum redshift for detectability calculation)\n",
      "  detection_rate, formation_rate, merger_rate, redshifts, COMPAS, Average_SF_mass_needed, shell_volumes = find_detection_rate(args.path, filename=args.fname, dco_type=args.dco_type, weight_column=args.weight_column,\n",
      "Average_SF_mass_needed =  102018364.5348773 solMass\n",
      "Calculating rates\n",
      "[0.1666123  0.16908425 0.17156789 ... 0.02771055 0.02759969 0.02748936] 1 / solMass\n",
      "637148\n",
      "0.17532274980156265\n",
      "1554\n",
      "1201\n",
      "1001\n",
      "Traceback (most recent call last):\n",
      "  File \"/home/sashalvna/research/SFRD_fit/src/scripts/CosmicIntegration/FastCosmicIntegration.py\", line 859, in <module>\n",
      "    detection_rate, formation_rate, merger_rate, redshifts, COMPAS, Average_SF_mass_needed, shell_volumes = find_detection_rate(args.path, filename=args.fname, dco_type=args.dco_type, weight_column=args.weight_column,\n",
      "  File \"/home/sashalvna/research/SFRD_fit/src/scripts/CosmicIntegration/FastCosmicIntegration.py\", line 461, in find_detection_rate\n",
      "    formation_rate, merger_rate = find_formation_and_merger_rates(n_binaries, redshifts, times, time_first_SF, n_formed, dPdlogZ,\n",
      "  File \"/home/sashalvna/research/SFRD_fit/src/scripts/CosmicIntegration/FastCosmicIntegration.py\", line 192, in find_formation_and_merger_rates\n",
      "    formation_rate[i, :] = n_formed * dPdlogZ[:, np.digitize(COMPAS_metallicites[i], metallicities)] / p_draw_metallicity * COMPAS_weights[i]\n",
      "IndexError: index 1554 is out of bounds for axis 0 with size 1554\n"
     ]
    }
   ],
   "source": [
    "!python FastCosmicIntegration.py \\\n",
    " --path /home/sashalvna/research/Fit_SFRD_TNG100/ --filename COMPAS_Output_wWeights_reduced.h5 \\\n",
    " --outfname /home/sashalvna/research/Fit_SFRD_TNG100/Rate_info_test.h5 --mu0 0.025 --muz -0.049 \\\n",
    " --sigma0 1.129 --sigmaz 0.048 --alpha -1.778 --aSF 0.017 --bSF 1.481 --cSF 4.452 --dSF 5.913 \\\n",
    " --weight mixture_weight --zstep 0.01 --sens O3 --m1min 5. --dco_type BBH  --BinAppend \\\n",
    " --redshiftBinSize 0.05 --maxzdet 0.5 --cosmology Planck15"
   ]
  },
  {
   "cell_type": "code",
   "execution_count": 34,
   "id": "099ffc33",
   "metadata": {
    "scrolled": false
   },
   "outputs": [
    {
     "name": "stdout",
     "output_type": "stream",
     "text": [
      "Using Planck15 as cosmology!\n",
      "Calculate detection rates\n",
      "Running find_detection_rate with the following parameters: path /home/sashalvna/research/Fit_SFRD_TNG100/, filename COMPAS_Output_wWeights.h5, dco_typeBBH, weight_column mixture_weight\n",
      "merges_hubble_time True, pessimistic_CEE True, no_RLOF_after_CE True,\n",
      "max_redshift 10, max_redshift_detection 0.5, redshift_step 0.01, z_first_SF 10,\n",
      "m1_min 5.0 solMass, m1_max 150.0 solMass, m2_min 0.1 solMass, fbin 0.7,\n",
      "aSF 0.017, bSF 1.481, cSF 4.452, dSF 5.913, mu0 0.025, muz -0.049, sigma0 1.129, sigmaz 0.048, alpha -1.778, min_logZ -12.0, max_logZ 0.0, step_logZ 0.01\n",
      "sensitivity O3, snr_threshold 8, Mc_max 300.0, Mc_step 0.1, eta_max 0.25, eta_step 0.01, snr_max 1000.0, snr_step 0.1\n",
      "noRLOFafterCEE, pessimistic: True True\n",
      "sum(type_masks[BBH]) 2273376, sum(hubble_mask) 1835145, sum(rlof_mask) 2523122, sum(pessimistic_mask) 2523122\n",
      "/home/sashalvna/research/SFRD_fit/src/scripts/CosmicIntegration/FastCosmicIntegration.py:859: UserWarning: Maximum chirp mass used for detectability calculation is below maximum binary chirp mass * (1+maximum redshift for detectability calculation)\n",
      "  detection_rate, formation_rate, merger_rate, redshifts, COMPAS, Average_SF_mass_needed, shell_volumes = find_detection_rate(args.path, filename=args.fname, dco_type=args.dco_type, weight_column=args.weight_column,\n",
      "Average_SF_mass_needed =  1017216322.4365062 solMass\n",
      "Calculating rates\n",
      "[0.01670983 0.01695775 0.01720684 ... 0.00277914 0.00276802 0.00275695] 1 / solMass\n",
      "1640550\n",
      "0.1753222685894653\n",
      "1640550\n",
      "1201\n",
      "1001\n",
      "^C\n",
      "Traceback (most recent call last):\n",
      "  File \"/home/sashalvna/research/SFRD_fit/src/scripts/CosmicIntegration/FastCosmicIntegration.py\", line 859, in <module>\n",
      "    detection_rate, formation_rate, merger_rate, redshifts, COMPAS, Average_SF_mass_needed, shell_volumes = find_detection_rate(args.path, filename=args.fname, dco_type=args.dco_type, weight_column=args.weight_column,\n",
      "  File \"/home/sashalvna/research/SFRD_fit/src/scripts/CosmicIntegration/FastCosmicIntegration.py\", line 461, in find_detection_rate\n",
      "    formation_rate, merger_rate = find_formation_and_merger_rates(n_binaries, redshifts, times, time_first_SF, n_formed, dPdlogZ,\n",
      "  File \"/home/sashalvna/research/SFRD_fit/src/scripts/CosmicIntegration/FastCosmicIntegration.py\", line 192, in find_formation_and_merger_rates\n",
      "    formation_rate[i, :] = n_formed * dPdlogZ[:, np.digitize(COMPAS_metallicites[i], metallicities)] / p_draw_metallicity * COMPAS_weights[i]\n",
      "  File \"/home/sashalvna/anaconda3/envs/compas/lib/python3.10/site-packages/astropy/units/quantity.py\", line 1121, in __mul__\n",
      "    return super().__mul__(other)\n",
      "  File \"/home/sashalvna/anaconda3/envs/compas/lib/python3.10/site-packages/astropy/units/quantity.py\", line 591, in __array_ufunc__\n",
      "    converters, unit = converters_and_unit(function, method, *inputs)\n",
      "  File \"/home/sashalvna/anaconda3/envs/compas/lib/python3.10/site-packages/astropy/units/quantity_helper/converters.py\", line 174, in converters_and_unit\n",
      "    converters, result_unit = ufunc_helper(function, *units)\n",
      "  File \"/home/sashalvna/anaconda3/envs/compas/lib/python3.10/site-packages/astropy/units/quantity_helper/helpers.py\", line 205, in helper_multiplication\n",
      "    return [None, None], _d(unit1) * _d(unit2)\n",
      "  File \"/home/sashalvna/anaconda3/envs/compas/lib/python3.10/site-packages/astropy/units/core.py\", line 813, in __mul__\n",
      "    def __mul__(self, m):\n",
      "KeyboardInterrupt\n"
     ]
    }
   ],
   "source": [
    "!python FastCosmicIntegration.py \\\n",
    " --path /home/sashalvna/research/Fit_SFRD_TNG100/ --filename COMPAS_Output_wWeights.h5 \\\n",
    " --outfname /home/sashalvna/research/Fit_SFRD_TNG100/Rate_info_test.h5 --mu0 0.025 --muz -0.049 \\\n",
    " --sigma0 1.129 --sigmaz 0.048 --alpha -1.778 --aSF 0.017 --bSF 1.481 --cSF 4.452 --dSF 5.913 \\\n",
    " --weight mixture_weight --zstep 0.01 --sens O3 --m1min 5. --dco_type BBH  --BinAppend \\\n",
    " --redshiftBinSize 0.05 --maxzdet 0.5 --cosmology Planck15"
   ]
  },
  {
   "cell_type": "code",
   "execution_count": 26,
   "id": "43f35b3b",
   "metadata": {
    "scrolled": true
   },
   "outputs": [
    {
     "name": "stdout",
     "output_type": "stream",
     "text": [
      "The main files I have at my disposal are:\r\n",
      " ['BSE_Double_Compact_Objects', 'BSE_RLOF', 'BSE_System_Parameters', 'Rates_mu00.025_muz-0.05_alpha-1.77_sigma01.125_sigmaz0.05_a0.02_b1.48_c4.45_d5.9_zBinned']\r\n"
     ]
    }
   ],
   "source": [
    "! python /home/sashalvna/research/Fit_SFRD_TNG100/reduceHdf5Data.py \\\n",
    "/home/sashalvna/research/Fit_SFRD_TNG100/COMPAS_Output_wWeights.h5 \\\n",
    "/home/sashalvna/research/Fit_SFRD_TNG100/COMPAS_Output_wWeights_reduced.h5"
   ]
  },
  {
   "cell_type": "code",
   "execution_count": 24,
   "id": "45183ce3",
   "metadata": {
    "scrolled": true
   },
   "outputs": [
    {
     "data": {
      "text/plain": [
       "2523122"
      ]
     },
     "execution_count": 24,
     "metadata": {},
     "output_type": "execute_result"
    }
   ],
   "source": [
    "len(data['BSE_Double_Compact_Objects']['SEED'][()])"
   ]
  },
  {
   "cell_type": "code",
   "execution_count": 5,
   "id": "ba35f95c",
   "metadata": {},
   "outputs": [
    {
     "name": "stdout",
     "output_type": "stream",
     "text": [
      "Using Planck15 as cosmology!\n",
      "Traceback (most recent call last):\n",
      "  File \"/home/sashalvna/research/COMPAS/compas_python_utils/cosmic_integration/FastCosmicIntegration.py\", line 892, in <module>\n",
      "    main()\n",
      "  File \"/home/sashalvna/research/COMPAS/compas_python_utils/cosmic_integration/FastCosmicIntegration.py\", line 829, in main\n",
      "    detection_rate, formation_rate, merger_rate, redshifts, COMPAS = find_detection_rate(\n",
      "  File \"/home/sashalvna/research/COMPAS/compas_python_utils/cosmic_integration/FastCosmicIntegration.py\", line 420, in find_detection_rate\n",
      "    COMPAS.setCOMPASDCOmask(types=dco_type, withinHubbleTime=merges_hubble_time, pessimistic=pessimistic_CEE, noRLOFafterCEE=no_RLOF_after_CEE)\n",
      "  File \"/home/sashalvna/research/COMPAS/compas_python_utils/cosmic_integration/ClassCOMPAS.py\", line 102, in setCOMPASDCOmask\n",
      "    ce_seeds = self.get_COMPAS_variables(\"BSE_Common_Envelopes\", \"SEED\")\n",
      "  File \"/home/sashalvna/research/COMPAS/compas_python_utils/cosmic_integration/ClassCOMPAS.py\", line 216, in get_COMPAS_variables\n",
      "    return compas_file[hdf5_file][var_names][...].squeeze()\n",
      "  File \"h5py/_objects.pyx\", line 54, in h5py._objects.with_phil.wrapper\n",
      "  File \"h5py/_objects.pyx\", line 55, in h5py._objects.with_phil.wrapper\n",
      "  File \"/home/sashalvna/anaconda3/lib/python3.9/site-packages/h5py/_hl/group.py\", line 305, in __getitem__\n",
      "    oid = h5o.open(self.id, self._e(name), lapl=self._lapl)\n",
      "  File \"h5py/_objects.pyx\", line 54, in h5py._objects.with_phil.wrapper\n",
      "  File \"h5py/_objects.pyx\", line 55, in h5py._objects.with_phil.wrapper\n",
      "  File \"h5py/h5o.pyx\", line 190, in h5py.h5o.open\n",
      "KeyError: \"Unable to open object (object 'BSE_Common_Envelopes' doesn't exist)\"\n"
     ]
    }
   ],
   "source": [
    "!python /home/sashalvna/research/COMPAS/compas_python_utils/cosmic_integration/FastCosmicIntegration.py \\\n",
    " --path /home/sashalvna/research/Fit_SFRD_TNG100/COMPAS_Output_wWeights_reduced.h5 --mu0 0.025 --muz -0.049 \\\n",
    " --sigma0 1.129 --sigmaz 0.048 --alpha -1.778 --aSF 0.017 --bSF 1.481 --cSF 4.452 --dSF 5.913 \\\n",
    " --weight mixture_weight --zstep 0.01 --sens O3 --m1min 5. --dco_type BBH --maxzdet 0.5 --cosmology Planck15"
   ]
  },
  {
   "cell_type": "code",
   "execution_count": 2,
   "id": "76523f01",
   "metadata": {},
   "outputs": [],
   "source": [
    "import matplotlib\n",
    "matplotlib.use('Agg')\n",
    "\n",
    "import seaborn as sns\n",
    "from scipy import stats\n",
    "\n",
    "# Chosen cosmology - now it's WMAP9??\n",
    "# Update: plot mass distribution.py doesnt use cosmo or z_at_value, so can ignore here\n",
    "#from astropy.cosmology import WMAP9 as cosmo\n",
    "#from astropy.cosmology import z_at_value\n",
    "\n",
    "import json\n",
    "import argparse\n",
    "import gc\n",
    "\n",
    "# Custom scripts\n",
    "import MassDistHelperFunctions as mfunc\n",
    "import Plot_Mass_distributions as pltmass"
   ]
  },
  {
   "cell_type": "code",
   "execution_count": null,
   "id": "023116de",
   "metadata": {},
   "outputs": [],
   "source": []
  },
  {
   "cell_type": "code",
   "execution_count": 3,
   "id": "9a964db3",
   "metadata": {},
   "outputs": [],
   "source": [
    "## locations\n",
    "save_loc    =  '/home/sashalvna/research/Fit_SFRD_TNG100'\n",
    "data_dir    =  '/home/sashalvna/research/Fit_SFRD_TNG100'\n",
    "rate_file_name = '1_Rate_info.h5'\n",
    "COMPASfilename = 'COMPAS_Output_wWeights.h5'"
   ]
  },
  {
   "cell_type": "code",
   "execution_count": 18,
   "id": "a724734e",
   "metadata": {},
   "outputs": [
    {
     "data": {
      "text/plain": [
       "['Rates_mu00.025_muz-0.049_alpha-1.778_sigma01.125_sigmaz0.048_a0.02_b1.48_c4.44_d5.9_zBinned']"
      ]
     },
     "execution_count": 18,
     "metadata": {},
     "output_type": "execute_result"
    }
   ],
   "source": [
    "path = data_dir + '/' + rate_file_name\n",
    "file = h5.File(path, 'r')\n",
    "list(file.keys())"
   ]
  },
  {
   "cell_type": "code",
   "execution_count": 5,
   "id": "4f36b4c8",
   "metadata": {},
   "outputs": [],
   "source": [
    "#figure 3: stable MT, no unstable so no CE\n",
    "only_stable = True \n",
    "only_CE     = False \n",
    "channel_string = 'stable'"
   ]
  },
  {
   "cell_type": "code",
   "execution_count": 4,
   "id": "3d63386f",
   "metadata": {},
   "outputs": [],
   "source": [
    "## PLOT setttings\n",
    "import matplotlib.pyplot as plt\n",
    "plt.rc('font', family='serif')\n",
    "from matplotlib import rc\n",
    "\n",
    "matplotlib.rcParams['mathtext.fontset'] = 'stix'\n",
    "matplotlib.rcParams['font.family'] = 'STIXGeneral'\n",
    "rc('font',**{'family':'sans-serif','sans-serif':['Helvetica']})\n",
    "rc('text', usetex=False)\n",
    "fsize, SMALL_SIZE, MEDIUM_SIZE, BIGGER_SIZE = 30,25,25,30\n",
    "for obj in ['axes','xtick','ytick']:\n",
    "    plt.rc(obj, labelsize=MEDIUM_SIZE)          # controls default text sizes\n",
    "for obj in ['figure','axes']:\n",
    "    plt.rc(obj, titlesize=BIGGER_SIZE)    # fontsize of the tick labels\n",
    "plt.rc('font', size=MEDIUM_SIZE)          # controls default text sizes\n",
    "plt.rc('legend', fontsize=SMALL_SIZE)    # legend fontsize"
   ]
  },
  {
   "cell_type": "code",
   "execution_count": 6,
   "id": "5456985f",
   "metadata": {},
   "outputs": [
    {
     "name": "stdout",
     "output_type": "stream",
     "text": [
      "plotting LIGO\n",
      "Reading  /home/sashalvna/research/Fit_SFRD_TNG100//COMPAS_Output_wWeights.h5\n",
      "Done with reading DCO data for this file :)\n",
      "nplot 0 \n",
      "\n",
      "rate_key Rates_mu00.025_muz-0.049_alpha-1.778_sigma01.125_sigmaz0.048_a0.02_b1.48_c4.44_d5.9_zBinned\n",
      "using file with key CE_Event_Count\n",
      "BBH_bool should already contain all stuff, np.sum(BBH_bool)  1640550  len(merging_BBH) 1640550\n",
      "$\\mathrm{Narrow: \\ }  (\\omega_0 = 0.70) \\  \\mathcal{R}_{0.2} = \\ $  len(merging_BBH)= 449453  Rate =  19.829841847935224  Gpc-3 yr-1\n",
      "get the histogram\n",
      "m 1.4327445768535148 [1.43274458] [1.43274458]\n",
      "\n",
      "m 0.48053673638125116 [0.48053674] [0.48053674]\n",
      "\n",
      "m 0.023437340070893427 [0.02343734] [0.02343734]\n",
      "\n"
     ]
    }
   ],
   "source": [
    "#plotting\n",
    "fig = plt.figure( figsize = (24, 28))\n",
    "\n",
    "# width of SFRD at z=0 - sigma0 varied\n",
    "subplot1 = fig.add_subplot(321) #first subplot in layout that has 3 rows and 2 columns\n",
    "ax1 = pltmass.plot_mass_distribution(sim_dir = data_dir, data_dir=data_dir, rate_file='/'+str(rate_file_name), simulation_data = '/'+str(COMPASfilename),\n",
    "                           x_key = 'M_moreMassive',  rate_keys  = ['Rates_mu00.025_muz-0.049_alpha-1.778_sigma01.125_sigmaz0.048_a0.02_b1.48_c4.44_d5.9_zBinned'], channel_string = channel_string,\n",
    "                           show_hist = False, show_KDE = True,  plot_LIGO = True, Color =  'navy',\n",
    "                           only_CE = only_CE, only_stable = only_stable, \n",
    "                           bootstrap = False, bootstraps = 50, save_name = 'SFRD_width_variations.pdf', titletext = \"Width of metallicity dist.\"+\"\\n\"+r\"$\\omega_0$, (scale $z=0$)\",\n",
    "                           labels = [r'$\\mathrm{Narrow: \\ }  (\\omega_0 = 0.70) \\  \\mathcal{R}_{0.2} = \\ $',\n",
    "                                     r'$\\mathrm{Fiducial: \\ } (\\omega_0 = 1.13) \\ \\mathcal{R}_{0.2}= \\ $', \n",
    "                                     r'$\\mathrm{Wide: \\ } (\\omega_0 = 2.00) \\  \\mathcal{R}_{0.2} = \\ $'],\n",
    "                          multipanel = True, subplot = subplot1)"
   ]
  },
  {
   "cell_type": "code",
   "execution_count": 1,
   "id": "ce9e6914",
   "metadata": {
    "scrolled": true
   },
   "outputs": [
    {
     "name": "stdout",
     "output_type": "stream",
     "text": [
      "/home/sashalvna/research/SFRD_fit/src/scripts/CosmicIntegration\r\n"
     ]
    }
   ],
   "source": [
    "! pwd"
   ]
  },
  {
   "cell_type": "code",
   "execution_count": 2,
   "id": "bce92498",
   "metadata": {},
   "outputs": [],
   "source": [
    "import matplotlib\n",
    "import matplotlib.pyplot as plt\n",
    "matplotlib.use('Agg')\n",
    "\n",
    "import seaborn as sns\n",
    "from scipy import stats\n",
    "\n",
    "# Chosen cosmology - now it's WMAP9??\n",
    "# Update: plot mass distribution.py doesnt use cosmo or z_at_value, so can ignore here\n",
    "#from astropy.cosmology import WMAP9 as cosmo\n",
    "#from astropy.cosmology import z_at_value\n",
    "\n",
    "import json\n",
    "import argparse\n",
    "import gc\n",
    "\n",
    "# Custom scripts\n",
    "import MassDistHelperFunctions as mfunc\n",
    "import Plot_Mass_distributions as pltmass"
   ]
  }
 ],
 "metadata": {
  "kernelspec": {
   "display_name": "Python 3 (ipykernel)",
   "language": "python",
   "name": "python3"
  },
  "language_info": {
   "codemirror_mode": {
    "name": "ipython",
    "version": 3
   },
   "file_extension": ".py",
   "mimetype": "text/x-python",
   "name": "python",
   "nbconvert_exporter": "python",
   "pygments_lexer": "ipython3",
   "version": "3.10.5"
  }
 },
 "nbformat": 4,
 "nbformat_minor": 5
}
